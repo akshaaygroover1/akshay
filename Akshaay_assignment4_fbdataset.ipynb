{
 "cells": [
  {
   "cell_type": "code",
   "execution_count": 1,
   "metadata": {},
   "outputs": [
    {
     "name": "stdout",
     "output_type": "stream",
     "text": [
      "Requirement already satisfied: keras in /anaconda3/lib/python3.7/site-packages (2.2.4)\n",
      "Requirement already satisfied: pyyaml in /anaconda3/lib/python3.7/site-packages (from keras) (3.13)\n",
      "Requirement already satisfied: h5py in /anaconda3/lib/python3.7/site-packages (from keras) (2.8.0)\n",
      "Requirement already satisfied: keras-applications>=1.0.6 in /anaconda3/lib/python3.7/site-packages (from keras) (1.0.7)\n",
      "Requirement already satisfied: keras-preprocessing>=1.0.5 in /anaconda3/lib/python3.7/site-packages (from keras) (1.0.9)\n",
      "Requirement already satisfied: six>=1.9.0 in /anaconda3/lib/python3.7/site-packages (from keras) (1.12.0)\n",
      "Requirement already satisfied: scipy>=0.14 in /anaconda3/lib/python3.7/site-packages (from keras) (1.1.0)\n",
      "Requirement already satisfied: numpy>=1.9.1 in /anaconda3/lib/python3.7/site-packages (from keras) (1.16.3)\n"
     ]
    }
   ],
   "source": [
    "!pip install keras"
   ]
  },
  {
   "cell_type": "code",
   "execution_count": 2,
   "metadata": {},
   "outputs": [
    {
     "name": "stdout",
     "output_type": "stream",
     "text": [
      "Requirement already satisfied: tensorflow in /anaconda3/lib/python3.7/site-packages (1.13.1)\n",
      "Requirement already satisfied: grpcio>=1.8.6 in /anaconda3/lib/python3.7/site-packages (from tensorflow) (1.19.0)\n",
      "Requirement already satisfied: astor>=0.6.0 in /anaconda3/lib/python3.7/site-packages (from tensorflow) (0.7.1)\n",
      "Requirement already satisfied: tensorflow-estimator<1.14.0rc0,>=1.13.0 in /anaconda3/lib/python3.7/site-packages (from tensorflow) (1.13.0)\n",
      "Requirement already satisfied: protobuf>=3.6.1 in /anaconda3/lib/python3.7/site-packages (from tensorflow) (3.7.1)\n",
      "Requirement already satisfied: keras-preprocessing>=1.0.5 in /anaconda3/lib/python3.7/site-packages (from tensorflow) (1.0.9)\n",
      "Requirement already satisfied: gast>=0.2.0 in /anaconda3/lib/python3.7/site-packages (from tensorflow) (0.2.2)\n",
      "Requirement already satisfied: tensorboard<1.14.0,>=1.13.0 in /anaconda3/lib/python3.7/site-packages (from tensorflow) (1.13.1)\n",
      "Requirement already satisfied: wheel>=0.26 in /anaconda3/lib/python3.7/site-packages (from tensorflow) (0.32.3)\n",
      "Requirement already satisfied: keras-applications>=1.0.6 in /anaconda3/lib/python3.7/site-packages (from tensorflow) (1.0.7)\n",
      "Requirement already satisfied: absl-py>=0.1.6 in /anaconda3/lib/python3.7/site-packages (from tensorflow) (0.7.1)\n",
      "Requirement already satisfied: six>=1.10.0 in /anaconda3/lib/python3.7/site-packages (from tensorflow) (1.12.0)\n",
      "Requirement already satisfied: numpy>=1.13.3 in /anaconda3/lib/python3.7/site-packages (from tensorflow) (1.16.3)\n",
      "Requirement already satisfied: termcolor>=1.1.0 in /anaconda3/lib/python3.7/site-packages (from tensorflow) (1.1.0)\n",
      "Requirement already satisfied: mock>=2.0.0 in /anaconda3/lib/python3.7/site-packages (from tensorflow-estimator<1.14.0rc0,>=1.13.0->tensorflow) (2.0.0)\n",
      "Requirement already satisfied: setuptools in /anaconda3/lib/python3.7/site-packages (from protobuf>=3.6.1->tensorflow) (40.6.3)\n",
      "Requirement already satisfied: werkzeug>=0.11.15 in /anaconda3/lib/python3.7/site-packages (from tensorboard<1.14.0,>=1.13.0->tensorflow) (0.14.1)\n",
      "Requirement already satisfied: markdown>=2.6.8 in /anaconda3/lib/python3.7/site-packages (from tensorboard<1.14.0,>=1.13.0->tensorflow) (3.1)\n",
      "Requirement already satisfied: h5py in /anaconda3/lib/python3.7/site-packages (from keras-applications>=1.0.6->tensorflow) (2.8.0)\n",
      "Requirement already satisfied: pbr>=0.11 in /anaconda3/lib/python3.7/site-packages (from mock>=2.0.0->tensorflow-estimator<1.14.0rc0,>=1.13.0->tensorflow) (5.1.3)\n"
     ]
    }
   ],
   "source": [
    "!pip install tensorflow"
   ]
  },
  {
   "cell_type": "code",
   "execution_count": 3,
   "metadata": {},
   "outputs": [
    {
     "name": "stdout",
     "output_type": "stream",
     "text": [
      "Requirement already up-to-date: numpy in /anaconda3/lib/python3.7/site-packages (1.16.3)\r\n"
     ]
    }
   ],
   "source": [
    "!pip install --upgrade numpy"
   ]
  },
  {
   "cell_type": "code",
   "execution_count": 4,
   "metadata": {},
   "outputs": [
    {
     "name": "stdout",
     "output_type": "stream",
     "text": [
      "Requirement already satisfied: mlxtend in /anaconda3/lib/python3.7/site-packages (0.15.0.0)\n",
      "Requirement already satisfied: matplotlib>=1.5.1 in /anaconda3/lib/python3.7/site-packages (from mlxtend) (3.0.2)\n",
      "Requirement already satisfied: scikit-learn>=0.18 in /anaconda3/lib/python3.7/site-packages (from mlxtend) (0.20.1)\n",
      "Requirement already satisfied: numpy>=1.10.4 in /anaconda3/lib/python3.7/site-packages (from mlxtend) (1.16.3)\n",
      "Requirement already satisfied: pandas>=0.17.1 in /anaconda3/lib/python3.7/site-packages (from mlxtend) (0.23.4)\n",
      "Requirement already satisfied: setuptools in /anaconda3/lib/python3.7/site-packages (from mlxtend) (40.6.3)\n",
      "Requirement already satisfied: scipy>=0.17 in /anaconda3/lib/python3.7/site-packages (from mlxtend) (1.1.0)\n",
      "Requirement already satisfied: cycler>=0.10 in /anaconda3/lib/python3.7/site-packages (from matplotlib>=1.5.1->mlxtend) (0.10.0)\n",
      "Requirement already satisfied: kiwisolver>=1.0.1 in /anaconda3/lib/python3.7/site-packages (from matplotlib>=1.5.1->mlxtend) (1.0.1)\n",
      "Requirement already satisfied: pyparsing!=2.0.4,!=2.1.2,!=2.1.6,>=2.0.1 in /anaconda3/lib/python3.7/site-packages (from matplotlib>=1.5.1->mlxtend) (2.3.0)\n",
      "Requirement already satisfied: python-dateutil>=2.1 in /anaconda3/lib/python3.7/site-packages (from matplotlib>=1.5.1->mlxtend) (2.7.5)\n",
      "Requirement already satisfied: pytz>=2011k in /anaconda3/lib/python3.7/site-packages (from pandas>=0.17.1->mlxtend) (2018.7)\n",
      "Requirement already satisfied: six in /anaconda3/lib/python3.7/site-packages (from cycler>=0.10->matplotlib>=1.5.1->mlxtend) (1.12.0)\n"
     ]
    }
   ],
   "source": [
    "!pip install mlxtend  \n"
   ]
  },
  {
   "cell_type": "code",
   "execution_count": 5,
   "metadata": {},
   "outputs": [
    {
     "name": "stderr",
     "output_type": "stream",
     "text": [
      "Using TensorFlow backend.\n"
     ]
    }
   ],
   "source": [
    "import warnings\n",
    "warnings.simplefilter(\"ignore\")\n",
    "import numpy as np\n",
    "import pandas as pd\n",
    "import seaborn as sns\n",
    "import matplotlib.pyplot as plt\n",
    "from sklearn.preprocessing import StandardScaler\n",
    "from sklearn.preprocessing import LabelEncoder\n",
    "from sklearn.preprocessing import StandardScaler\n",
    "from sklearn.model_selection import cross_validate\n",
    "from sklearn.decomposition import FastICA\n",
    "from sklearn.model_selection import train_test_split\n",
    "from sklearn.decomposition import PCA\n",
    "from sklearn.cluster import KMeans\n",
    "from sklearn.random_projection import GaussianRandomProjection\n",
    "from sklearn.model_selection import cross_val_predict, cross_val_score\n",
    "from sklearn.mixture import GaussianMixture #For GMM clustering\n",
    "from sklearn.metrics import confusion_matrix,classification_report,accuracy_score\n",
    "from sklearn.feature_selection import SelectFromModel\n",
    "from sklearn.ensemble import ExtraTreesClassifier\n",
    "from keras import regularizers\n",
    "from keras.layers import Dense\n",
    "from keras.optimizers import SGD, Adam\n",
    "from keras.models import Sequential\n",
    "from sklearn.ensemble import RandomForestRegressor, RandomForestClassifier  \n",
    "from sklearn.metrics import roc_auc_score\n",
    "from sklearn import metrics\n",
    "plt.style.use('ggplot')\n",
    "from matplotlib import style\n",
    "%matplotlib inline"
   ]
  },
  {
   "cell_type": "code",
   "execution_count": 6,
   "metadata": {},
   "outputs": [],
   "source": [
    "from mlxtend.feature_selection import SequentialFeatureSelector\n"
   ]
  },
  {
   "cell_type": "code",
   "execution_count": 17,
   "metadata": {},
   "outputs": [],
   "source": [
    "DataSet = pd.read_csv('Features_Variant_1.csv', names=[\"Page_Likes\",\"Page_Checkins\",\"Page talking about\",\"Page Category\",\"Derived5\",\"Derived6\",\"Derived7\",\"Derived8\",\n",
    "          \"Derived9\",\"Derived10\",\"Derived11\",\"Derived12\",\"Derived13\",\"Derived14\",\"Derived15\",\"Derived16\",\"Derived17\",\n",
    "          \"Derived18\",\"Derived19\",\"Derived20\",\"Derived21\",\"Derived22\",\"Derived23\",\"Derived24\",\"Derived25\",\"Derived26\",\"Derived27\",\"Derived28\",\"Derived29\",\n",
    "          \"CC1\",\"CC2\",\"CC3\",\"CC4\",\"CC5\",\"Base Time\",\"Post_Length\",\"Post Share Count\",\"Post Promotion Status\",\"H Local\",\"PSun\",\"PMon\",\"PTue\",\"PWed\",\"PThurs\",\"PFri\",\"PSat\",\n",
    "          \"BSun\",\"BMon\",\"BTue\",\"BWed\",\"BThurs\",\"BFri\",\"BSat\",\"Target_Variable\"])"
   ]
  },
  {
   "cell_type": "code",
   "execution_count": 18,
   "metadata": {},
   "outputs": [],
   "source": [
    "DataSet['response']=  np.where(DataSet['Target_Variable']>100,1,0)"
   ]
  },
  {
   "cell_type": "code",
   "execution_count": 19,
   "metadata": {},
   "outputs": [
    {
     "data": {
      "text/html": [
       "<div>\n",
       "<style scoped>\n",
       "    .dataframe tbody tr th:only-of-type {\n",
       "        vertical-align: middle;\n",
       "    }\n",
       "\n",
       "    .dataframe tbody tr th {\n",
       "        vertical-align: top;\n",
       "    }\n",
       "\n",
       "    .dataframe thead th {\n",
       "        text-align: right;\n",
       "    }\n",
       "</style>\n",
       "<table border=\"1\" class=\"dataframe\">\n",
       "  <thead>\n",
       "    <tr style=\"text-align: right;\">\n",
       "      <th></th>\n",
       "      <th>Page_Likes</th>\n",
       "      <th>Page_Checkins</th>\n",
       "      <th>Page talking about</th>\n",
       "      <th>Page Category</th>\n",
       "      <th>Derived5</th>\n",
       "      <th>Derived6</th>\n",
       "      <th>Derived7</th>\n",
       "      <th>Derived8</th>\n",
       "      <th>Derived9</th>\n",
       "      <th>Derived10</th>\n",
       "      <th>...</th>\n",
       "      <th>PSat</th>\n",
       "      <th>BSun</th>\n",
       "      <th>BMon</th>\n",
       "      <th>BTue</th>\n",
       "      <th>BWed</th>\n",
       "      <th>BThurs</th>\n",
       "      <th>BFri</th>\n",
       "      <th>BSat</th>\n",
       "      <th>Target_Variable</th>\n",
       "      <th>response</th>\n",
       "    </tr>\n",
       "  </thead>\n",
       "  <tbody>\n",
       "    <tr>\n",
       "      <th>0</th>\n",
       "      <td>634995</td>\n",
       "      <td>0</td>\n",
       "      <td>463</td>\n",
       "      <td>1</td>\n",
       "      <td>0.0</td>\n",
       "      <td>806.0</td>\n",
       "      <td>11.291045</td>\n",
       "      <td>1.0</td>\n",
       "      <td>70.495138</td>\n",
       "      <td>0.0</td>\n",
       "      <td>...</td>\n",
       "      <td>0</td>\n",
       "      <td>0</td>\n",
       "      <td>0</td>\n",
       "      <td>0</td>\n",
       "      <td>0</td>\n",
       "      <td>0</td>\n",
       "      <td>0</td>\n",
       "      <td>1</td>\n",
       "      <td>0</td>\n",
       "      <td>0</td>\n",
       "    </tr>\n",
       "    <tr>\n",
       "      <th>1</th>\n",
       "      <td>634995</td>\n",
       "      <td>0</td>\n",
       "      <td>463</td>\n",
       "      <td>1</td>\n",
       "      <td>0.0</td>\n",
       "      <td>806.0</td>\n",
       "      <td>11.291045</td>\n",
       "      <td>1.0</td>\n",
       "      <td>70.495138</td>\n",
       "      <td>0.0</td>\n",
       "      <td>...</td>\n",
       "      <td>0</td>\n",
       "      <td>0</td>\n",
       "      <td>0</td>\n",
       "      <td>0</td>\n",
       "      <td>0</td>\n",
       "      <td>0</td>\n",
       "      <td>1</td>\n",
       "      <td>0</td>\n",
       "      <td>0</td>\n",
       "      <td>0</td>\n",
       "    </tr>\n",
       "    <tr>\n",
       "      <th>2</th>\n",
       "      <td>634995</td>\n",
       "      <td>0</td>\n",
       "      <td>463</td>\n",
       "      <td>1</td>\n",
       "      <td>0.0</td>\n",
       "      <td>806.0</td>\n",
       "      <td>11.291045</td>\n",
       "      <td>1.0</td>\n",
       "      <td>70.495138</td>\n",
       "      <td>0.0</td>\n",
       "      <td>...</td>\n",
       "      <td>0</td>\n",
       "      <td>0</td>\n",
       "      <td>0</td>\n",
       "      <td>0</td>\n",
       "      <td>0</td>\n",
       "      <td>0</td>\n",
       "      <td>0</td>\n",
       "      <td>1</td>\n",
       "      <td>0</td>\n",
       "      <td>0</td>\n",
       "    </tr>\n",
       "    <tr>\n",
       "      <th>3</th>\n",
       "      <td>634995</td>\n",
       "      <td>0</td>\n",
       "      <td>463</td>\n",
       "      <td>1</td>\n",
       "      <td>0.0</td>\n",
       "      <td>806.0</td>\n",
       "      <td>11.291045</td>\n",
       "      <td>1.0</td>\n",
       "      <td>70.495138</td>\n",
       "      <td>0.0</td>\n",
       "      <td>...</td>\n",
       "      <td>0</td>\n",
       "      <td>0</td>\n",
       "      <td>1</td>\n",
       "      <td>0</td>\n",
       "      <td>0</td>\n",
       "      <td>0</td>\n",
       "      <td>0</td>\n",
       "      <td>0</td>\n",
       "      <td>0</td>\n",
       "      <td>0</td>\n",
       "    </tr>\n",
       "    <tr>\n",
       "      <th>4</th>\n",
       "      <td>634995</td>\n",
       "      <td>0</td>\n",
       "      <td>463</td>\n",
       "      <td>1</td>\n",
       "      <td>0.0</td>\n",
       "      <td>806.0</td>\n",
       "      <td>11.291045</td>\n",
       "      <td>1.0</td>\n",
       "      <td>70.495138</td>\n",
       "      <td>0.0</td>\n",
       "      <td>...</td>\n",
       "      <td>0</td>\n",
       "      <td>0</td>\n",
       "      <td>0</td>\n",
       "      <td>0</td>\n",
       "      <td>1</td>\n",
       "      <td>0</td>\n",
       "      <td>0</td>\n",
       "      <td>0</td>\n",
       "      <td>0</td>\n",
       "      <td>0</td>\n",
       "    </tr>\n",
       "  </tbody>\n",
       "</table>\n",
       "<p>5 rows × 55 columns</p>\n",
       "</div>"
      ],
      "text/plain": [
       "   Page_Likes  Page_Checkins  Page talking about  Page Category  Derived5  \\\n",
       "0      634995              0                 463              1       0.0   \n",
       "1      634995              0                 463              1       0.0   \n",
       "2      634995              0                 463              1       0.0   \n",
       "3      634995              0                 463              1       0.0   \n",
       "4      634995              0                 463              1       0.0   \n",
       "\n",
       "   Derived6   Derived7  Derived8   Derived9  Derived10    ...     PSat  BSun  \\\n",
       "0     806.0  11.291045       1.0  70.495138        0.0    ...        0     0   \n",
       "1     806.0  11.291045       1.0  70.495138        0.0    ...        0     0   \n",
       "2     806.0  11.291045       1.0  70.495138        0.0    ...        0     0   \n",
       "3     806.0  11.291045       1.0  70.495138        0.0    ...        0     0   \n",
       "4     806.0  11.291045       1.0  70.495138        0.0    ...        0     0   \n",
       "\n",
       "   BMon  BTue  BWed  BThurs  BFri  BSat  Target_Variable  response  \n",
       "0     0     0     0       0     0     1                0         0  \n",
       "1     0     0     0       0     1     0                0         0  \n",
       "2     0     0     0       0     0     1                0         0  \n",
       "3     1     0     0       0     0     0                0         0  \n",
       "4     0     0     1       0     0     0                0         0  \n",
       "\n",
       "[5 rows x 55 columns]"
      ]
     },
     "execution_count": 19,
     "metadata": {},
     "output_type": "execute_result"
    }
   ],
   "source": [
    "DataSet.head()"
   ]
  },
  {
   "cell_type": "code",
   "execution_count": 20,
   "metadata": {},
   "outputs": [],
   "source": [
    "def normalizeValues(df):\n",
    "    result = (df - df.mean())/df.std()\n",
    "    return result"
   ]
  },
  {
   "cell_type": "code",
   "execution_count": 22,
   "metadata": {},
   "outputs": [],
   "source": [
    "DataSet = DataSet.drop([\"Page Category\",\"Derived5\",\"Derived6\",\"Derived7\",\"Derived8\",\n",
    "          \"Derived9\",\"Derived10\",\"Derived11\",\"Derived12\",\"Derived13\",\"Derived14\",\"Derived15\",\"Derived16\",\"Derived17\",\n",
    "          \"Derived18\",\"Derived19\",\"Derived20\",\"Derived21\",\"Derived22\",\"Derived23\",\"Derived24\",\"Derived25\",\"Derived26\",\"Derived27\",\"Derived28\",\"Derived29\",\n",
    "          \"CC4\",\"CC5\",\"Post Promotion Status\",\"PSat\",\n",
    "          \"BSun\",\"BMon\",\"BTue\",\"BWed\",\"BThurs\",\"BFri\",\"BSat\", \"Target_Variable\"], axis=1)"
   ]
  },
  {
   "cell_type": "code",
   "execution_count": 23,
   "metadata": {},
   "outputs": [
    {
     "data": {
      "text/html": [
       "<div>\n",
       "<style scoped>\n",
       "    .dataframe tbody tr th:only-of-type {\n",
       "        vertical-align: middle;\n",
       "    }\n",
       "\n",
       "    .dataframe tbody tr th {\n",
       "        vertical-align: top;\n",
       "    }\n",
       "\n",
       "    .dataframe thead th {\n",
       "        text-align: right;\n",
       "    }\n",
       "</style>\n",
       "<table border=\"1\" class=\"dataframe\">\n",
       "  <thead>\n",
       "    <tr style=\"text-align: right;\">\n",
       "      <th></th>\n",
       "      <th>Page_Likes</th>\n",
       "      <th>Page_Checkins</th>\n",
       "      <th>Page talking about</th>\n",
       "      <th>CC1</th>\n",
       "      <th>CC2</th>\n",
       "      <th>CC3</th>\n",
       "      <th>Base Time</th>\n",
       "      <th>Post_Length</th>\n",
       "      <th>Post Share Count</th>\n",
       "      <th>H Local</th>\n",
       "      <th>PSun</th>\n",
       "      <th>PMon</th>\n",
       "      <th>PTue</th>\n",
       "      <th>PWed</th>\n",
       "      <th>PThurs</th>\n",
       "      <th>PFri</th>\n",
       "      <th>response</th>\n",
       "    </tr>\n",
       "  </thead>\n",
       "  <tbody>\n",
       "    <tr>\n",
       "      <th>0</th>\n",
       "      <td>634995</td>\n",
       "      <td>0</td>\n",
       "      <td>463</td>\n",
       "      <td>0</td>\n",
       "      <td>0</td>\n",
       "      <td>0</td>\n",
       "      <td>65</td>\n",
       "      <td>166</td>\n",
       "      <td>2</td>\n",
       "      <td>24</td>\n",
       "      <td>0</td>\n",
       "      <td>0</td>\n",
       "      <td>0</td>\n",
       "      <td>1</td>\n",
       "      <td>0</td>\n",
       "      <td>0</td>\n",
       "      <td>0</td>\n",
       "    </tr>\n",
       "    <tr>\n",
       "      <th>1</th>\n",
       "      <td>634995</td>\n",
       "      <td>0</td>\n",
       "      <td>463</td>\n",
       "      <td>0</td>\n",
       "      <td>0</td>\n",
       "      <td>0</td>\n",
       "      <td>10</td>\n",
       "      <td>132</td>\n",
       "      <td>1</td>\n",
       "      <td>24</td>\n",
       "      <td>0</td>\n",
       "      <td>0</td>\n",
       "      <td>0</td>\n",
       "      <td>0</td>\n",
       "      <td>1</td>\n",
       "      <td>0</td>\n",
       "      <td>0</td>\n",
       "    </tr>\n",
       "    <tr>\n",
       "      <th>2</th>\n",
       "      <td>634995</td>\n",
       "      <td>0</td>\n",
       "      <td>463</td>\n",
       "      <td>0</td>\n",
       "      <td>0</td>\n",
       "      <td>0</td>\n",
       "      <td>14</td>\n",
       "      <td>133</td>\n",
       "      <td>2</td>\n",
       "      <td>24</td>\n",
       "      <td>0</td>\n",
       "      <td>0</td>\n",
       "      <td>0</td>\n",
       "      <td>0</td>\n",
       "      <td>0</td>\n",
       "      <td>1</td>\n",
       "      <td>0</td>\n",
       "    </tr>\n",
       "    <tr>\n",
       "      <th>3</th>\n",
       "      <td>634995</td>\n",
       "      <td>0</td>\n",
       "      <td>463</td>\n",
       "      <td>7</td>\n",
       "      <td>0</td>\n",
       "      <td>3</td>\n",
       "      <td>62</td>\n",
       "      <td>131</td>\n",
       "      <td>1</td>\n",
       "      <td>24</td>\n",
       "      <td>0</td>\n",
       "      <td>0</td>\n",
       "      <td>0</td>\n",
       "      <td>0</td>\n",
       "      <td>0</td>\n",
       "      <td>1</td>\n",
       "      <td>0</td>\n",
       "    </tr>\n",
       "    <tr>\n",
       "      <th>4</th>\n",
       "      <td>634995</td>\n",
       "      <td>0</td>\n",
       "      <td>463</td>\n",
       "      <td>1</td>\n",
       "      <td>0</td>\n",
       "      <td>0</td>\n",
       "      <td>58</td>\n",
       "      <td>142</td>\n",
       "      <td>5</td>\n",
       "      <td>24</td>\n",
       "      <td>0</td>\n",
       "      <td>1</td>\n",
       "      <td>0</td>\n",
       "      <td>0</td>\n",
       "      <td>0</td>\n",
       "      <td>0</td>\n",
       "      <td>0</td>\n",
       "    </tr>\n",
       "  </tbody>\n",
       "</table>\n",
       "</div>"
      ],
      "text/plain": [
       "   Page_Likes  Page_Checkins  Page talking about  CC1  CC2  CC3  Base Time  \\\n",
       "0      634995              0                 463    0    0    0         65   \n",
       "1      634995              0                 463    0    0    0         10   \n",
       "2      634995              0                 463    0    0    0         14   \n",
       "3      634995              0                 463    7    0    3         62   \n",
       "4      634995              0                 463    1    0    0         58   \n",
       "\n",
       "   Post_Length  Post Share Count  H Local  PSun  PMon  PTue  PWed  PThurs  \\\n",
       "0          166                 2       24     0     0     0     1       0   \n",
       "1          132                 1       24     0     0     0     0       1   \n",
       "2          133                 2       24     0     0     0     0       0   \n",
       "3          131                 1       24     0     0     0     0       0   \n",
       "4          142                 5       24     0     1     0     0       0   \n",
       "\n",
       "   PFri  response  \n",
       "0     0         0  \n",
       "1     0         0  \n",
       "2     1         0  \n",
       "3     1         0  \n",
       "4     0         0  "
      ]
     },
     "execution_count": 23,
     "metadata": {},
     "output_type": "execute_result"
    }
   ],
   "source": [
    "DataSet.head()"
   ]
  },
  {
   "cell_type": "code",
   "execution_count": 27,
   "metadata": {},
   "outputs": [
    {
     "data": {
      "text/html": [
       "<div>\n",
       "<style scoped>\n",
       "    .dataframe tbody tr th:only-of-type {\n",
       "        vertical-align: middle;\n",
       "    }\n",
       "\n",
       "    .dataframe tbody tr th {\n",
       "        vertical-align: top;\n",
       "    }\n",
       "\n",
       "    .dataframe thead th {\n",
       "        text-align: right;\n",
       "    }\n",
       "</style>\n",
       "<table border=\"1\" class=\"dataframe\">\n",
       "  <thead>\n",
       "    <tr style=\"text-align: right;\">\n",
       "      <th></th>\n",
       "      <th>Page_Likes</th>\n",
       "      <th>Page_Checkins</th>\n",
       "      <th>Page talking about</th>\n",
       "      <th>CC1</th>\n",
       "      <th>CC2</th>\n",
       "      <th>CC3</th>\n",
       "      <th>Base Time</th>\n",
       "      <th>Post_Length</th>\n",
       "      <th>Post Share Count</th>\n",
       "      <th>H Local</th>\n",
       "      <th>PSun</th>\n",
       "      <th>PMon</th>\n",
       "      <th>PTue</th>\n",
       "      <th>PWed</th>\n",
       "      <th>PThurs</th>\n",
       "      <th>PFri</th>\n",
       "      <th>response</th>\n",
       "    </tr>\n",
       "  </thead>\n",
       "  <tbody>\n",
       "    <tr>\n",
       "      <th>0</th>\n",
       "      <td>-0.100036</td>\n",
       "      <td>-0.227072</td>\n",
       "      <td>-0.399673</td>\n",
       "      <td>-0.406790</td>\n",
       "      <td>-0.287674</td>\n",
       "      <td>-0.276450</td>\n",
       "      <td>1.418853</td>\n",
       "      <td>0.006239</td>\n",
       "      <td>-0.121957</td>\n",
       "      <td>0.120931</td>\n",
       "      <td>-0.373362</td>\n",
       "      <td>-0.408982</td>\n",
       "      <td>-0.419662</td>\n",
       "      <td>2.312906</td>\n",
       "      <td>-0.410201</td>\n",
       "      <td>-0.413729</td>\n",
       "      <td>-0.120699</td>\n",
       "    </tr>\n",
       "    <tr>\n",
       "      <th>1</th>\n",
       "      <td>-0.100036</td>\n",
       "      <td>-0.227072</td>\n",
       "      <td>-0.399673</td>\n",
       "      <td>-0.406790</td>\n",
       "      <td>-0.287674</td>\n",
       "      <td>-0.276450</td>\n",
       "      <td>-1.210604</td>\n",
       "      <td>-0.084123</td>\n",
       "      <td>-0.123015</td>\n",
       "      <td>0.120931</td>\n",
       "      <td>-0.373362</td>\n",
       "      <td>-0.408982</td>\n",
       "      <td>-0.419662</td>\n",
       "      <td>-0.432346</td>\n",
       "      <td>2.437769</td>\n",
       "      <td>-0.413729</td>\n",
       "      <td>-0.120699</td>\n",
       "    </tr>\n",
       "    <tr>\n",
       "      <th>2</th>\n",
       "      <td>-0.100036</td>\n",
       "      <td>-0.227072</td>\n",
       "      <td>-0.399673</td>\n",
       "      <td>-0.406790</td>\n",
       "      <td>-0.287674</td>\n",
       "      <td>-0.276450</td>\n",
       "      <td>-1.019371</td>\n",
       "      <td>-0.081465</td>\n",
       "      <td>-0.121957</td>\n",
       "      <td>0.120931</td>\n",
       "      <td>-0.373362</td>\n",
       "      <td>-0.408982</td>\n",
       "      <td>-0.419662</td>\n",
       "      <td>-0.432346</td>\n",
       "      <td>-0.410201</td>\n",
       "      <td>2.416981</td>\n",
       "      <td>-0.120699</td>\n",
       "    </tr>\n",
       "    <tr>\n",
       "      <th>3</th>\n",
       "      <td>-0.100036</td>\n",
       "      <td>-0.227072</td>\n",
       "      <td>-0.399673</td>\n",
       "      <td>-0.355686</td>\n",
       "      <td>-0.287674</td>\n",
       "      <td>-0.234243</td>\n",
       "      <td>1.275429</td>\n",
       "      <td>-0.086781</td>\n",
       "      <td>-0.123015</td>\n",
       "      <td>0.120931</td>\n",
       "      <td>-0.373362</td>\n",
       "      <td>-0.408982</td>\n",
       "      <td>-0.419662</td>\n",
       "      <td>-0.432346</td>\n",
       "      <td>-0.410201</td>\n",
       "      <td>2.416981</td>\n",
       "      <td>-0.120699</td>\n",
       "    </tr>\n",
       "    <tr>\n",
       "      <th>4</th>\n",
       "      <td>-0.100036</td>\n",
       "      <td>-0.227072</td>\n",
       "      <td>-0.399673</td>\n",
       "      <td>-0.399490</td>\n",
       "      <td>-0.287674</td>\n",
       "      <td>-0.276450</td>\n",
       "      <td>1.084195</td>\n",
       "      <td>-0.057546</td>\n",
       "      <td>-0.118782</td>\n",
       "      <td>0.120931</td>\n",
       "      <td>-0.373362</td>\n",
       "      <td>2.445038</td>\n",
       "      <td>-0.419662</td>\n",
       "      <td>-0.432346</td>\n",
       "      <td>-0.410201</td>\n",
       "      <td>-0.413729</td>\n",
       "      <td>-0.120699</td>\n",
       "    </tr>\n",
       "  </tbody>\n",
       "</table>\n",
       "</div>"
      ],
      "text/plain": [
       "   Page_Likes  Page_Checkins  Page talking about       CC1       CC2  \\\n",
       "0   -0.100036      -0.227072           -0.399673 -0.406790 -0.287674   \n",
       "1   -0.100036      -0.227072           -0.399673 -0.406790 -0.287674   \n",
       "2   -0.100036      -0.227072           -0.399673 -0.406790 -0.287674   \n",
       "3   -0.100036      -0.227072           -0.399673 -0.355686 -0.287674   \n",
       "4   -0.100036      -0.227072           -0.399673 -0.399490 -0.287674   \n",
       "\n",
       "        CC3  Base Time  Post_Length  Post Share Count   H Local      PSun  \\\n",
       "0 -0.276450   1.418853     0.006239         -0.121957  0.120931 -0.373362   \n",
       "1 -0.276450  -1.210604    -0.084123         -0.123015  0.120931 -0.373362   \n",
       "2 -0.276450  -1.019371    -0.081465         -0.121957  0.120931 -0.373362   \n",
       "3 -0.234243   1.275429    -0.086781         -0.123015  0.120931 -0.373362   \n",
       "4 -0.276450   1.084195    -0.057546         -0.118782  0.120931 -0.373362   \n",
       "\n",
       "       PMon      PTue      PWed    PThurs      PFri  response  \n",
       "0 -0.408982 -0.419662  2.312906 -0.410201 -0.413729 -0.120699  \n",
       "1 -0.408982 -0.419662 -0.432346  2.437769 -0.413729 -0.120699  \n",
       "2 -0.408982 -0.419662 -0.432346 -0.410201  2.416981 -0.120699  \n",
       "3 -0.408982 -0.419662 -0.432346 -0.410201  2.416981 -0.120699  \n",
       "4  2.445038 -0.419662 -0.432346 -0.410201 -0.413729 -0.120699  "
      ]
     },
     "execution_count": 27,
     "metadata": {},
     "output_type": "execute_result"
    }
   ],
   "source": [
    "X = normalizeValues(DataSet)\n",
    "X = pd.DataFrame(X)\n",
    "X.head()"
   ]
  },
  {
   "cell_type": "code",
   "execution_count": 30,
   "metadata": {},
   "outputs": [],
   "source": [
    "X = normalizeValues(DataSet.iloc[:,0:10])\n",
    "X = np.concatenate((X, DataSet.iloc[:,10:16]), axis = 1)\n",
    "X = pd.DataFrame(X)\n",
    "Y = DataSet.iloc[:, 16:17]"
   ]
  },
  {
   "cell_type": "code",
   "execution_count": 31,
   "metadata": {},
   "outputs": [],
   "source": [
    "X_train, X_test, y_train, y_test = train_test_split(X, Y, test_size=0.3, random_state=1)"
   ]
  },
  {
   "cell_type": "code",
   "execution_count": 32,
   "metadata": {},
   "outputs": [
    {
     "data": {
      "text/plain": [
       "KMeans(algorithm='auto', copy_x=True, init='k-means++', max_iter=300,\n",
       "    n_clusters=2, n_init=10, n_jobs=None, precompute_distances='auto',\n",
       "    random_state=101, tol=0.0001, verbose=0)"
      ]
     },
     "execution_count": 32,
     "metadata": {},
     "output_type": "execute_result"
    }
   ],
   "source": [
    "model_k = KMeans(n_clusters=2, random_state=101)\n",
    "model_k.fit(X_train)"
   ]
  },
  {
   "cell_type": "code",
   "execution_count": 33,
   "metadata": {},
   "outputs": [],
   "source": [
    "# Validation prediction\n",
    "prediction_v = model_k.predict(X_train)"
   ]
  },
  {
   "cell_type": "code",
   "execution_count": 34,
   "metadata": {},
   "outputs": [],
   "source": [
    "prediction_k = model_k.predict(X_test)"
   ]
  },
  {
   "cell_type": "code",
   "execution_count": 35,
   "metadata": {},
   "outputs": [
    {
     "data": {
      "text/plain": [
       "93.80545380545381"
      ]
     },
     "execution_count": 35,
     "metadata": {},
     "output_type": "execute_result"
    }
   ],
   "source": [
    "accuracy_score(y_test, prediction_k)*100"
   ]
  },
  {
   "cell_type": "code",
   "execution_count": 36,
   "metadata": {},
   "outputs": [
    {
     "name": "stdout",
     "output_type": "stream",
     "text": [
      "[[11439   678]\n",
      " [   83    85]]\n"
     ]
    }
   ],
   "source": [
    "print(confusion_matrix(y_test,prediction_k))"
   ]
  },
  {
   "cell_type": "code",
   "execution_count": 37,
   "metadata": {},
   "outputs": [],
   "source": [
    "Sum_of_squared_distances = []\n",
    "K = range(1,15)\n",
    "for k in K:\n",
    "    km = KMeans(n_clusters=k)\n",
    "    km = km.fit(X_train)\n",
    "    Sum_of_squared_distances.append(km.inertia_)"
   ]
  },
  {
   "cell_type": "code",
   "execution_count": 38,
   "metadata": {},
   "outputs": [
    {
     "data": {
      "image/png": "[encoded data removed]",
      "text/plain": [
       "<Figure size 720x504 with 1 Axes>"
      ]
     },
     "metadata": {
      "needs_background": "light"
     },
     "output_type": "display_data"
    }
   ],
   "source": [
    "plt.figure(figsize=(10,7))\n",
    "plt.title(\"Elbow Method for Optimal K\")\n",
    "plt.xlabel(\"K values\")\n",
    "plt.ylabel(\"Sum of Squared Distances\")\n",
    "plt.plot(K, Sum_of_squared_distances, color = 'red', linestyle = 'dashed')\n",
    "plt.savefig(\"Elbow_chart_withoutFeatureSelection.jpg\")"
   ]
  },
  {
   "cell_type": "code",
   "execution_count": 39,
   "metadata": {},
   "outputs": [
    {
     "name": "stdout",
     "output_type": "stream",
     "text": [
      "[[21645  6599]\n",
      " [   54   366]]\n"
     ]
    }
   ],
   "source": [
    "Gaussian = GaussianMixture(n_components=2,random_state=0)#covariance_type='tied')\n",
    "Gaussian.fit(X_train)\n",
    "predictions = Gaussian.predict(X_train)\n",
    "probs = Gaussian.predict_proba(X_train)\n",
    "print(confusion_matrix(y_train,predictions))"
   ]
  },
  {
   "cell_type": "code",
   "execution_count": 40,
   "metadata": {},
   "outputs": [
    {
     "name": "stdout",
     "output_type": "stream",
     "text": [
      "76.79\n"
     ]
    }
   ],
   "source": [
    "acc= round(100*accuracy_score(y_train,predictions),2)\n",
    "print(acc)"
   ]
  },
  {
   "cell_type": "code",
   "execution_count": 41,
   "metadata": {},
   "outputs": [],
   "source": [
    "def GMM_def(X_train, n = 2):\n",
    "    Gaussian1 = GaussianMixture(n_components=n,random_state=10)\n",
    "    Gaussian1.fit(X_train)\n",
    "    predictions1 = Gaussian1.predict(X_train)\n",
    "    return round(100*accuracy_score(y_train,predictions),2)"
   ]
  },
  {
   "cell_type": "code",
   "execution_count": 42,
   "metadata": {},
   "outputs": [
    {
     "name": "stderr",
     "output_type": "stream",
     "text": [
      "/anaconda3/lib/python3.7/site-packages/sklearn/feature_selection/from_model.py:197: DataConversionWarning: A column-vector y was passed when a 1d array was expected. Please change the shape of y to (n_samples,), for example using ravel().\n",
      "  self.estimator_.fit(X, y, **fit_params)\n"
     ]
    },
    {
     "data": {
      "text/plain": [
       "array([[-0.16266949, -0.40217907, -0.39218914, ..., -0.06320425,\n",
       "        -0.4349401 , -0.0764543 ],\n",
       "       [-0.18745171, -0.3061308 , -0.20237446, ..., -1.35402873,\n",
       "        -0.4349401 , -0.12195662],\n",
       "       [-0.18319544, -0.33860963, -0.34838575, ..., -0.20662919,\n",
       "         0.12849351, -0.12195662],\n",
       "       ...,\n",
       "       [ 0.71140493,  2.21077574,  0.24295999, ..., -1.06717885,\n",
       "        -0.4349401 ,  0.31507733],\n",
       "       [-0.14079733, -0.33035245,  0.3232662 , ...,  0.89296203,\n",
       "        -0.3897591 ,  0.21772352],\n",
       "       [ 0.18215421,  1.19255584, -0.24617784, ..., -0.39786245,\n",
       "        -0.02299572, -0.1092583 ]])"
      ]
     },
     "execution_count": 42,
     "metadata": {},
     "output_type": "execute_result"
    }
   ],
   "source": [
    "estimator = ExtraTreesClassifier(n_estimators = 100)\n",
    "featureSelection = SelectFromModel(estimator)\n",
    "featureSelection.fit(X_train, y_train)\n",
    "selectedFeatures = featureSelection.transform(X_train)\n",
    "selectedFeatures"
   ]
  },
  {
   "cell_type": "code",
   "execution_count": 43,
   "metadata": {},
   "outputs": [
    {
     "data": {
      "text/plain": [
       "Int64Index([0, 2, 3, 4, 6, 7, 8], dtype='int64')"
      ]
     },
     "execution_count": 43,
     "metadata": {},
     "output_type": "execute_result"
    }
   ],
   "source": [
    "X_train.columns[featureSelection.get_support()]"
   ]
  },
  {
   "cell_type": "code",
   "execution_count": 47,
   "metadata": {},
   "outputs": [],
   "source": [
    "feature_selected_X_train = X_train.loc[:,[0, 2, 3, 4,\n",
    "       6, 7, 8,]]"
   ]
  },
  {
   "cell_type": "code",
   "execution_count": 48,
   "metadata": {},
   "outputs": [
    {
     "data": {
      "text/html": [
       "<div>\n",
       "<style scoped>\n",
       "    .dataframe tbody tr th:only-of-type {\n",
       "        vertical-align: middle;\n",
       "    }\n",
       "\n",
       "    .dataframe tbody tr th {\n",
       "        vertical-align: top;\n",
       "    }\n",
       "\n",
       "    .dataframe thead th {\n",
       "        text-align: right;\n",
       "    }\n",
       "</style>\n",
       "<table border=\"1\" class=\"dataframe\">\n",
       "  <thead>\n",
       "    <tr style=\"text-align: right;\">\n",
       "      <th></th>\n",
       "      <th>0</th>\n",
       "      <th>2</th>\n",
       "      <th>3</th>\n",
       "      <th>4</th>\n",
       "      <th>6</th>\n",
       "      <th>7</th>\n",
       "      <th>8</th>\n",
       "    </tr>\n",
       "  </thead>\n",
       "  <tbody>\n",
       "    <tr>\n",
       "      <th>13818</th>\n",
       "      <td>-0.162669</td>\n",
       "      <td>-0.402179</td>\n",
       "      <td>-0.392189</td>\n",
       "      <td>-0.287674</td>\n",
       "      <td>-0.063204</td>\n",
       "      <td>-0.434940</td>\n",
       "      <td>-0.076454</td>\n",
       "    </tr>\n",
       "    <tr>\n",
       "      <th>30265</th>\n",
       "      <td>-0.187452</td>\n",
       "      <td>-0.306131</td>\n",
       "      <td>-0.202374</td>\n",
       "      <td>0.075376</td>\n",
       "      <td>-1.354029</td>\n",
       "      <td>-0.434940</td>\n",
       "      <td>-0.121957</td>\n",
       "    </tr>\n",
       "    <tr>\n",
       "      <th>34860</th>\n",
       "      <td>-0.183195</td>\n",
       "      <td>-0.338610</td>\n",
       "      <td>-0.348386</td>\n",
       "      <td>-0.235810</td>\n",
       "      <td>-0.206629</td>\n",
       "      <td>0.128494</td>\n",
       "      <td>-0.121957</td>\n",
       "    </tr>\n",
       "    <tr>\n",
       "      <th>29230</th>\n",
       "      <td>-0.109271</td>\n",
       "      <td>-0.158223</td>\n",
       "      <td>-0.282681</td>\n",
       "      <td>-0.287674</td>\n",
       "      <td>1.466662</td>\n",
       "      <td>-0.110700</td>\n",
       "      <td>-0.121957</td>\n",
       "    </tr>\n",
       "    <tr>\n",
       "      <th>6443</th>\n",
       "      <td>-0.188811</td>\n",
       "      <td>-0.398186</td>\n",
       "      <td>-0.406790</td>\n",
       "      <td>-0.287674</td>\n",
       "      <td>-1.401837</td>\n",
       "      <td>-0.041600</td>\n",
       "      <td>-0.123015</td>\n",
       "    </tr>\n",
       "  </tbody>\n",
       "</table>\n",
       "</div>"
      ],
      "text/plain": [
       "              0         2         3         4         6         7         8\n",
       "13818 -0.162669 -0.402179 -0.392189 -0.287674 -0.063204 -0.434940 -0.076454\n",
       "30265 -0.187452 -0.306131 -0.202374  0.075376 -1.354029 -0.434940 -0.121957\n",
       "34860 -0.183195 -0.338610 -0.348386 -0.235810 -0.206629  0.128494 -0.121957\n",
       "29230 -0.109271 -0.158223 -0.282681 -0.287674  1.466662 -0.110700 -0.121957\n",
       "6443  -0.188811 -0.398186 -0.406790 -0.287674 -1.401837 -0.041600 -0.123015"
      ]
     },
     "execution_count": 48,
     "metadata": {},
     "output_type": "execute_result"
    }
   ],
   "source": [
    "feature_selected_X_train.head()"
   ]
  },
  {
   "cell_type": "code",
   "execution_count": 49,
   "metadata": {},
   "outputs": [],
   "source": [
    "feature_selected_X_test = X_test.loc[:,[0, 2, 3, 4,\n",
    "       6, 7, 8,]]"
   ]
  },
  {
   "cell_type": "code",
   "execution_count": 50,
   "metadata": {},
   "outputs": [
    {
     "data": {
      "text/plain": [
       "KMeans(algorithm='auto', copy_x=True, init='k-means++', max_iter=300,\n",
       "    n_clusters=2, n_init=10, n_jobs=None, precompute_distances='auto',\n",
       "    random_state=101, tol=0.0001, verbose=0)"
      ]
     },
     "execution_count": 50,
     "metadata": {},
     "output_type": "execute_result"
    }
   ],
   "source": [
    "model_feature = KMeans(n_clusters=2, random_state=101)\n",
    "model_feature.fit(feature_selected_X_train)"
   ]
  },
  {
   "cell_type": "code",
   "execution_count": 51,
   "metadata": {},
   "outputs": [
    {
     "name": "stdout",
     "output_type": "stream",
     "text": [
      "98.51730393524979\n",
      "98.61619861619862\n",
      "[[12115     2]\n",
      " [  168     0]]\n"
     ]
    }
   ],
   "source": [
    "# VALIDATION\n",
    "prediction_feature_valid = model_feature.predict(feature_selected_X_train)\n",
    "valid_feature = accuracy_score(y_train, prediction_feature_valid)\n",
    "print(accuracy_score(y_train, prediction_feature_valid)*100)\n",
    "# TEST RESULTS\n",
    "prediction_feature_test = model_feature.predict(feature_selected_X_test)\n",
    "test_feature = accuracy_score(y_test, prediction_feature_test)\n",
    "print(accuracy_score(y_test, prediction_feature_test)*100)\n",
    "\n",
    "print(confusion_matrix(y_test,prediction_feature_test))"
   ]
  },
  {
   "cell_type": "code",
   "execution_count": 52,
   "metadata": {},
   "outputs": [],
   "source": [
    "pca = PCA()\n",
    "\n",
    "pca_X_train = pca.fit_transform(X_train)\n",
    "pca_X_test = pca.transform(X_test)"
   ]
  },
  {
   "cell_type": "code",
   "execution_count": 53,
   "metadata": {},
   "outputs": [
    {
     "data": {
      "text/plain": [
       "array([0.24818797, 0.14452889, 0.10543107, 0.09347719, 0.08689113,\n",
       "       0.0862053 , 0.06843772, 0.0619706 , 0.02871241, 0.01385761,\n",
       "       0.01313056, 0.01309659, 0.01298724, 0.01150569, 0.00977769,\n",
       "       0.00180233])"
      ]
     },
     "execution_count": 53,
     "metadata": {},
     "output_type": "execute_result"
    }
   ],
   "source": [
    "pca.explained_variance_ratio_"
   ]
  },
  {
   "cell_type": "code",
   "execution_count": 54,
   "metadata": {},
   "outputs": [
    {
     "data": {
      "text/plain": [
       "<matplotlib.legend.Legend at 0x1a269614a8>"
      ]
     },
     "execution_count": 54,
     "metadata": {},
     "output_type": "execute_result"
    },
    {
     "data": {
      "image/png": "[encoded data removed]",
      "text/plain": [
       "<Figure size 720x504 with 1 Axes>"
      ]
     },
     "metadata": {
      "needs_background": "light"
     },
     "output_type": "display_data"
    }
   ],
   "source": [
    "kmeans_plot = KMeans(n_clusters=2,random_state=0)\n",
    "\n",
    "pca_2 = PCA(n_components=2)\n",
    "\n",
    "X = pca_2.fit_transform(X_train)\n",
    "\n",
    "kmeans_plot.fit(X_train)\n",
    "y_kmeans_2 = kmeans_plot.fit_predict(X_train)\n",
    "\n",
    "acc= round(100*accuracy_score(y_train,y_kmeans_2),2)\n",
    "\n",
    "# Visualising the clusters\n",
    "plt.figure(figsize=(10,7))\n",
    "plt.scatter(X[y_kmeans_2 == 0, 0], X[y_kmeans_2 == 0, 1], s = 10, c = 'green', label = 'Large')\n",
    "plt.scatter(X[y_kmeans_2 == 1, 0], X[y_kmeans_2 == 1, 1], s = 10, c = 'red', label = 'Small')\n",
    "plt.title(\"Clusters After Feature Transformation\")\n",
    "plt.xlabel(\"PC1\")\n",
    "plt.ylabel(\"PC2\")\n",
    "plt.legend()"
   ]
  },
  {
   "cell_type": "code",
   "execution_count": 57,
   "metadata": {},
   "outputs": [
    {
     "name": "stdout",
     "output_type": "stream",
     "text": [
      "93.54242255093497\n",
      "93.80545380545381\n"
     ]
    }
   ],
   "source": [
    "model_pca = KMeans(n_clusters=2, random_state=100)\n",
    "model_pca.fit(pca_X_train)\n",
    "# VALIDATION\n",
    "prediction_pca_valid = model_pca.predict(pca_X_train)\n",
    "valid_pca = accuracy_score(y_train, prediction_pca_valid)\n",
    "print(accuracy_score(y_train, prediction_pca_valid)*100)\n",
    "# TEST RESULTS\n",
    "prediction_pca_test = model_pca.predict(pca_X_test)\n",
    "test_pca = accuracy_score(y_test, prediction_pca_test)\n",
    "print(accuracy_score(y_test, prediction_pca_test)*100)"
   ]
  },
  {
   "cell_type": "code",
   "execution_count": 58,
   "metadata": {},
   "outputs": [
    {
     "name": "stdout",
     "output_type": "stream",
     "text": [
      "76.79\n"
     ]
    }
   ],
   "source": [
    "gmm_acc = GMM_def(pca_X_train, 2)\n",
    "print(gmm_acc)"
   ]
  },
  {
   "cell_type": "code",
   "execution_count": 59,
   "metadata": {},
   "outputs": [
    {
     "data": {
      "image/png": "[encoded data removed]",
      "text/plain": [
       "<Figure size 720x504 with 1 Axes>"
      ]
     },
     "metadata": {
      "needs_background": "light"
     },
     "output_type": "display_data"
    }
   ],
   "source": [
    "acc_k = []\n",
    "for i in range(1,10):\n",
    "\n",
    "    kmeans_multi = KMeans(n_clusters=2,random_state=101)\n",
    "    kmeans_multi.fit(pca_X_train)\n",
    "\n",
    "    predictions_multi = kmeans_multi.predict(pca_X_train)\n",
    "    acc1= round(100*accuracy_score(y_train,predictions_multi),2)\n",
    "\n",
    "    acc_k.append(acc1)\n",
    "    \n",
    "plt.figure(figsize=(10,7))\n",
    "plt.plot(acc_k)\n",
    "plt.ylabel(\"Accuracy\")\n",
    "plt.title(\"Running K means 10 times\")\n",
    "plt.xlabel(\"No of Times K-Means execution\")\n",
    "plt.ylim(0,100)\n",
    "plt.show()"
   ]
  },
  {
   "cell_type": "code",
   "execution_count": 60,
   "metadata": {},
   "outputs": [
    {
     "name": "stderr",
     "output_type": "stream",
     "text": [
      "/anaconda3/lib/python3.7/site-packages/sklearn/decomposition/fastica_.py:305: UserWarning: n_components is too large: it will be set to 16\n",
      "  warnings.warn('n_components is too large: it will be set to %s' % n_components)\n"
     ]
    }
   ],
   "source": [
    "ica = FastICA(n_components=85)\n",
    "\n",
    "ica_X_train = pd.DataFrame(ica.fit_transform(X_train))\n",
    "ica_X_test = pd.DataFrame(ica.transform(X_test))"
   ]
  },
  {
   "cell_type": "code",
   "execution_count": 61,
   "metadata": {},
   "outputs": [
    {
     "name": "stdout",
     "output_type": "stream",
     "text": [
      "84.61484789282724\n",
      "84.55026455026456\n"
     ]
    }
   ],
   "source": [
    "model_ica = KMeans(n_clusters=2, random_state=100)\n",
    "model_ica.fit(ica_X_train)\n",
    "# VALIDATION\n",
    "prediction_ica_valid = model_ica.predict(ica_X_train)\n",
    "valid_ica = accuracy_score(y_train, prediction_ica_valid)\n",
    "print(accuracy_score(y_train, prediction_ica_valid)*100)\n",
    "# TEST RESULTS\n",
    "prediction_ica_test = model_ica.predict(ica_X_test)\n",
    "test_ica = accuracy_score(y_test, prediction_ica_test)\n",
    "print(accuracy_score(y_test, prediction_ica_test)*100)"
   ]
  },
  {
   "cell_type": "code",
   "execution_count": 62,
   "metadata": {},
   "outputs": [
    {
     "name": "stdout",
     "output_type": "stream",
     "text": [
      "76.79\n"
     ]
    }
   ],
   "source": [
    "ica_acc = GMM_def(ica_X_train,2)\n",
    "print(ica_acc)"
   ]
  },
  {
   "cell_type": "code",
   "execution_count": 63,
   "metadata": {},
   "outputs": [
    {
     "name": "stderr",
     "output_type": "stream",
     "text": [
      "/anaconda3/lib/python3.7/site-packages/sklearn/random_projection.py:379: DataDimensionalityWarning: The number of components is higher than the number of features: n_features < n_components (16 < 85).The dimensionality of the problem will not be reduced.\n",
      "  DataDimensionalityWarning)\n"
     ]
    }
   ],
   "source": [
    "grp = GaussianRandomProjection(n_components=85, eps=0.1, random_state=420)\n",
    "rca_X_train = pd.DataFrame(grp.fit_transform(X_train))\n",
    "rca_X_test = pd.DataFrame(grp.transform(X_test))"
   ]
  },
  {
   "cell_type": "code",
   "execution_count": 64,
   "metadata": {},
   "outputs": [
    {
     "name": "stdout",
     "output_type": "stream",
     "text": [
      "94.38668713368685\n",
      "94.38339438339437\n",
      "[[11503   614]\n",
      " [   76    92]]\n"
     ]
    }
   ],
   "source": [
    "model_rca = KMeans(n_clusters=2, random_state=99)\n",
    "model_rca.fit(rca_X_train)\n",
    "# VALIDATION\n",
    "prediction_rca_valid = model_rca.predict(rca_X_train)\n",
    "valid_rca = accuracy_score(y_train, prediction_rca_valid)\n",
    "print(accuracy_score(y_train, prediction_rca_valid)*100)\n",
    "# TEST RESULTS\n",
    "prediction_rca_test = model_rca.predict(rca_X_test)\n",
    "test_rca = accuracy_score(y_test, prediction_rca_test)\n",
    "print(accuracy_score(y_test, prediction_rca_test)*100)\n",
    "\n",
    "print(confusion_matrix(y_test,prediction_rca_test))"
   ]
  },
  {
   "cell_type": "code",
   "execution_count": 65,
   "metadata": {},
   "outputs": [
    {
     "name": "stdout",
     "output_type": "stream",
     "text": [
      "76.79\n",
      "[[3043 9074]\n",
      " [ 143   25]]\n"
     ]
    }
   ],
   "source": [
    "rca_acc = GMM_def(rca_X_train,2)\n",
    "print(rca_acc)\n",
    "\n",
    "Gaussian1 = GaussianMixture(n_components=2,random_state=10)\n",
    "Gaussian1.fit(X_test)\n",
    "predictions1 = Gaussian1.predict(X_test)\n",
    "print(confusion_matrix(y_test,predictions1))"
   ]
  },
  {
   "cell_type": "code",
   "execution_count": 66,
   "metadata": {},
   "outputs": [],
   "source": [
    "validation_scores = [valid_feature, valid_pca, valid_ica, valid_rca]\n",
    "test_scores = [test_feature, test_pca, test_ica, test_rca]"
   ]
  },
  {
   "cell_type": "code",
   "execution_count": 67,
   "metadata": {},
   "outputs": [
    {
     "data": {
      "text/plain": [
       "<matplotlib.legend.Legend at 0x1a268107b8>"
      ]
     },
     "execution_count": 67,
     "metadata": {},
     "output_type": "execute_result"
    },
    {
     "data": {
      "image/png": "[encoded data removed]",
      "text/plain": [
       "<Figure size 720x504 with 1 Axes>"
      ]
     },
     "metadata": {
      "needs_background": "light"
     },
     "output_type": "display_data"
    }
   ],
   "source": [
    "plt.figure(figsize=(10,7))\n",
    "plt.title(\"Dimensionality reduction performance\")\n",
    "#plt.xticks('Feature','ICA','PCA','RCA')\n",
    "plt.plot(validation_scores, label = 'Validation Accuracy')\n",
    "plt.plot(test_scores, label=\"Test Accuracy\")\n",
    "plt.legend(loc = \"lower right\")"
   ]
  },
  {
   "cell_type": "code",
   "execution_count": 69,
   "metadata": {},
   "outputs": [
    {
     "name": "stdout",
     "output_type": "stream",
     "text": [
      "WARNING:tensorflow:From /anaconda3/lib/python3.7/site-packages/tensorflow/python/ops/math_ops.py:3066: to_int32 (from tensorflow.python.ops.math_ops) is deprecated and will be removed in a future version.\n",
      "Instructions for updating:\n",
      "Use tf.cast instead.\n",
      "Train on 28664 samples, validate on 12285 samples\n",
      "Epoch 1/10\n",
      "28664/28664 [==============================] - 7s 231us/step - loss: 0.0489 - acc: 0.9853 - val_loss: 0.0325 - val_acc: 0.9863\n",
      "Epoch 2/10\n",
      "28664/28664 [==============================] - 6s 210us/step - loss: 0.0319 - acc: 0.9856 - val_loss: 0.0296 - val_acc: 0.9885\n",
      "Epoch 3/10\n",
      "28664/28664 [==============================] - 6s 208us/step - loss: 0.0297 - acc: 0.9870 - val_loss: 0.0346 - val_acc: 0.9886\n",
      "Epoch 4/10\n",
      "28664/28664 [==============================] - 6s 209us/step - loss: 0.0283 - acc: 0.9885 - val_loss: 0.0293 - val_acc: 0.9890\n",
      "Epoch 5/10\n",
      "28664/28664 [==============================] - 6s 206us/step - loss: 0.0281 - acc: 0.9884 - val_loss: 0.0272 - val_acc: 0.9893\n",
      "Epoch 6/10\n",
      "28664/28664 [==============================] - 6s 206us/step - loss: 0.0267 - acc: 0.9894 - val_loss: 0.0262 - val_acc: 0.9897\n",
      "Epoch 7/10\n",
      "28664/28664 [==============================] - 6s 208us/step - loss: 0.0254 - acc: 0.9898 - val_loss: 0.0279 - val_acc: 0.9893\n",
      "Epoch 8/10\n",
      "28664/28664 [==============================] - 6s 209us/step - loss: 0.0252 - acc: 0.9889 - val_loss: 0.0274 - val_acc: 0.9901\n",
      "Epoch 9/10\n",
      "28664/28664 [==============================] - 6s 209us/step - loss: 0.0250 - acc: 0.9896 - val_loss: 0.0270 - val_acc: 0.9897\n",
      "Epoch 10/10\n",
      "28664/28664 [==============================] - 6s 209us/step - loss: 0.0241 - acc: 0.9901 - val_loss: 0.0268 - val_acc: 0.9901\n"
     ]
    }
   ],
   "source": [
    "classifier = Sequential()\n",
    "\n",
    "classifier.add(Dense(64, activation= 'relu', input_dim =16))\n",
    "classifier.add(Dense(16, activation= 'relu'))\n",
    "classifier.add(Dense(16, activation= 'relu'))\n",
    "classifier.add(Dense(8, activation= 'relu'))\n",
    "classifier.add(Dense(1, activation= 'sigmoid'))\n",
    "classifier.compile(optimizer= 'adam',loss='binary_crossentropy', metrics=['accuracy'])\n",
    "hist = classifier.fit(pca_X_train, y_train, batch_size = 10, epochs = 10, validation_data=(pca_X_test,y_test))"
   ]
  },
  {
   "cell_type": "code",
   "execution_count": 70,
   "metadata": {},
   "outputs": [
    {
     "name": "stdout",
     "output_type": "stream",
     "text": [
      "99.006919006919\n"
     ]
    },
    {
     "data": {
      "text/plain": [
       "array([[12088,    29],\n",
       "       [   93,    75]])"
      ]
     },
     "execution_count": 70,
     "metadata": {},
     "output_type": "execute_result"
    }
   ],
   "source": [
    "y_pred_relu = classifier.predict(pca_X_test)\n",
    "y_pred_relu = y_pred_relu > 0.5\n",
    "print(accuracy_score(y_test,y_pred_relu)*100)\n",
    "confusion_matrix(y_test,y_pred_relu)"
   ]
  },
  {
   "cell_type": "code",
   "execution_count": 71,
   "metadata": {},
   "outputs": [
    {
     "data": {
      "image/png": "[encoded data removed]",
      "text/plain": [
       "<Figure size 432x288 with 1 Axes>"
      ]
     },
     "metadata": {
      "needs_background": "light"
     },
     "output_type": "display_data"
    }
   ],
   "source": [
    "#plt.figure(figsize=(14,10))\n",
    "plt.ylabel('Accuracy', fontsize=16)\n",
    "plt.xlabel('Epochs', fontsize=16)\n",
    "plt.plot(hist.history['acc'], 'g', label='Training Accuracy')\n",
    "plt.plot(hist.history['val_acc'], 'r', label='Validation Accuracy')\n",
    "plt.title('Accuracy vs Epochs')\n",
    "plt.legend(loc='lower right')\n",
    "plt.show()"
   ]
  },
  {
   "cell_type": "code",
   "execution_count": 86,
   "metadata": {},
   "outputs": [],
   "source": [
    "X_train_5 = new_Df.iloc[:, 0:2]\n",
    "y_5 = new_Df.iloc[:, 2:]"
   ]
  },
  {
   "cell_type": "code",
   "execution_count": null,
   "metadata": {},
   "outputs": [],
   "source": []
  }
 ],
 "metadata": {
  "kernelspec": {
   "display_name": "Python 3",
   "language": "python",
   "name": "python3"
  },
  "language_info": {
   "codemirror_mode": {
    "name": "ipython",
    "version": 3
   },
   "file_extension": ".py",
   "mimetype": "text/x-python",
   "name": "python",
   "nbconvert_exporter": "python",
   "pygments_lexer": "ipython3",
   "version": "3.7.1"
  }
 },
 "nbformat": 4,
 "nbformat_minor": 2
}
